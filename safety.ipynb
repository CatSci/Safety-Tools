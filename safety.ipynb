{
 "cells": [
  {
   "cell_type": "code",
   "execution_count": 1,
   "metadata": {},
   "outputs": [],
   "source": [
    "import pandas as pd\n",
    "import seaborn as sns\n",
    "import re\n",
    "from collections import defaultdict"
   ]
  },
  {
   "cell_type": "code",
   "execution_count": 2,
   "metadata": {},
   "outputs": [
    {
     "data": {
      "text/html": [
       "<div>\n",
       "<style scoped>\n",
       "    .dataframe tbody tr th:only-of-type {\n",
       "        vertical-align: middle;\n",
       "    }\n",
       "\n",
       "    .dataframe tbody tr th {\n",
       "        vertical-align: top;\n",
       "    }\n",
       "\n",
       "    .dataframe thead th {\n",
       "        text-align: right;\n",
       "    }\n",
       "</style>\n",
       "<table border=\"1\" class=\"dataframe\">\n",
       "  <thead>\n",
       "    <tr style=\"text-align: right;\">\n",
       "      <th></th>\n",
       "      <th>Element</th>\n",
       "      <th>Symbol</th>\n",
       "      <th>Atomic Number</th>\n",
       "      <th>Atomic Mass†</th>\n",
       "    </tr>\n",
       "  </thead>\n",
       "  <tbody>\n",
       "    <tr>\n",
       "      <th>0</th>\n",
       "      <td>Actinium</td>\n",
       "      <td>Ac</td>\n",
       "      <td>89</td>\n",
       "      <td>-227.00</td>\n",
       "    </tr>\n",
       "    <tr>\n",
       "      <th>1</th>\n",
       "      <td>Aluminum</td>\n",
       "      <td>Al</td>\n",
       "      <td>13</td>\n",
       "      <td>26.98</td>\n",
       "    </tr>\n",
       "    <tr>\n",
       "      <th>2</th>\n",
       "      <td>Americium</td>\n",
       "      <td>Am</td>\n",
       "      <td>95</td>\n",
       "      <td>-243.00</td>\n",
       "    </tr>\n",
       "    <tr>\n",
       "      <th>3</th>\n",
       "      <td>Antimony</td>\n",
       "      <td>Sb</td>\n",
       "      <td>51</td>\n",
       "      <td>121.80</td>\n",
       "    </tr>\n",
       "    <tr>\n",
       "      <th>4</th>\n",
       "      <td>Argon</td>\n",
       "      <td>Ar</td>\n",
       "      <td>18</td>\n",
       "      <td>39.95</td>\n",
       "    </tr>\n",
       "    <tr>\n",
       "      <th>...</th>\n",
       "      <td>...</td>\n",
       "      <td>...</td>\n",
       "      <td>...</td>\n",
       "      <td>...</td>\n",
       "    </tr>\n",
       "    <tr>\n",
       "      <th>104</th>\n",
       "      <td>Xenon</td>\n",
       "      <td>Xe</td>\n",
       "      <td>54</td>\n",
       "      <td>131.30</td>\n",
       "    </tr>\n",
       "    <tr>\n",
       "      <th>105</th>\n",
       "      <td>Ytterbium</td>\n",
       "      <td>Yb</td>\n",
       "      <td>70</td>\n",
       "      <td>173.00</td>\n",
       "    </tr>\n",
       "    <tr>\n",
       "      <th>106</th>\n",
       "      <td>Yttrium</td>\n",
       "      <td>Y</td>\n",
       "      <td>39</td>\n",
       "      <td>88.91</td>\n",
       "    </tr>\n",
       "    <tr>\n",
       "      <th>107</th>\n",
       "      <td>Zinc</td>\n",
       "      <td>Zn</td>\n",
       "      <td>30</td>\n",
       "      <td>65.41</td>\n",
       "    </tr>\n",
       "    <tr>\n",
       "      <th>108</th>\n",
       "      <td>Zirconium</td>\n",
       "      <td>Zr</td>\n",
       "      <td>40</td>\n",
       "      <td>91.22</td>\n",
       "    </tr>\n",
       "  </tbody>\n",
       "</table>\n",
       "<p>109 rows × 4 columns</p>\n",
       "</div>"
      ],
      "text/plain": [
       "       Element Symbol  Atomic Number  Atomic Mass†\n",
       "0     Actinium     Ac             89       -227.00\n",
       "1     Aluminum     Al             13         26.98\n",
       "2    Americium     Am             95       -243.00\n",
       "3     Antimony     Sb             51        121.80\n",
       "4        Argon     Ar             18         39.95\n",
       "..         ...    ...            ...           ...\n",
       "104      Xenon     Xe             54        131.30\n",
       "105  Ytterbium     Yb             70        173.00\n",
       "106    Yttrium      Y             39         88.91\n",
       "107       Zinc     Zn             30         65.41\n",
       "108  Zirconium     Zr             40         91.22\n",
       "\n",
       "[109 rows x 4 columns]"
      ]
     },
     "execution_count": 2,
     "metadata": {},
     "output_type": "execute_result"
    }
   ],
   "source": [
    "df = pd.read_excel('atomic masses.xlsx')\n",
    "df"
   ]
  },
  {
   "cell_type": "code",
   "execution_count": 3,
   "metadata": {},
   "outputs": [
    {
     "data": {
      "text/html": [
       "<div>\n",
       "<style scoped>\n",
       "    .dataframe tbody tr th:only-of-type {\n",
       "        vertical-align: middle;\n",
       "    }\n",
       "\n",
       "    .dataframe tbody tr th {\n",
       "        vertical-align: top;\n",
       "    }\n",
       "\n",
       "    .dataframe thead th {\n",
       "        text-align: right;\n",
       "    }\n",
       "</style>\n",
       "<table border=\"1\" class=\"dataframe\">\n",
       "  <thead>\n",
       "    <tr style=\"text-align: right;\">\n",
       "      <th></th>\n",
       "      <th>Symbol</th>\n",
       "      <th>Atomic Mass†</th>\n",
       "    </tr>\n",
       "  </thead>\n",
       "  <tbody>\n",
       "    <tr>\n",
       "      <th>0</th>\n",
       "      <td>Ac</td>\n",
       "      <td>-227.00</td>\n",
       "    </tr>\n",
       "    <tr>\n",
       "      <th>1</th>\n",
       "      <td>Al</td>\n",
       "      <td>26.98</td>\n",
       "    </tr>\n",
       "    <tr>\n",
       "      <th>2</th>\n",
       "      <td>Am</td>\n",
       "      <td>-243.00</td>\n",
       "    </tr>\n",
       "    <tr>\n",
       "      <th>3</th>\n",
       "      <td>Sb</td>\n",
       "      <td>121.80</td>\n",
       "    </tr>\n",
       "    <tr>\n",
       "      <th>4</th>\n",
       "      <td>Ar</td>\n",
       "      <td>39.95</td>\n",
       "    </tr>\n",
       "    <tr>\n",
       "      <th>...</th>\n",
       "      <td>...</td>\n",
       "      <td>...</td>\n",
       "    </tr>\n",
       "    <tr>\n",
       "      <th>104</th>\n",
       "      <td>Xe</td>\n",
       "      <td>131.30</td>\n",
       "    </tr>\n",
       "    <tr>\n",
       "      <th>105</th>\n",
       "      <td>Yb</td>\n",
       "      <td>173.00</td>\n",
       "    </tr>\n",
       "    <tr>\n",
       "      <th>106</th>\n",
       "      <td>Y</td>\n",
       "      <td>88.91</td>\n",
       "    </tr>\n",
       "    <tr>\n",
       "      <th>107</th>\n",
       "      <td>Zn</td>\n",
       "      <td>65.41</td>\n",
       "    </tr>\n",
       "    <tr>\n",
       "      <th>108</th>\n",
       "      <td>Zr</td>\n",
       "      <td>91.22</td>\n",
       "    </tr>\n",
       "  </tbody>\n",
       "</table>\n",
       "<p>109 rows × 2 columns</p>\n",
       "</div>"
      ],
      "text/plain": [
       "    Symbol  Atomic Mass†\n",
       "0       Ac       -227.00\n",
       "1       Al         26.98\n",
       "2       Am       -243.00\n",
       "3       Sb        121.80\n",
       "4       Ar         39.95\n",
       "..     ...           ...\n",
       "104     Xe        131.30\n",
       "105     Yb        173.00\n",
       "106      Y         88.91\n",
       "107     Zn         65.41\n",
       "108     Zr         91.22\n",
       "\n",
       "[109 rows x 2 columns]"
      ]
     },
     "execution_count": 3,
     "metadata": {},
     "output_type": "execute_result"
    }
   ],
   "source": [
    "mass_df = df[df.columns[[1, 3]]]\n",
    "mass_df"
   ]
  },
  {
   "cell_type": "code",
   "execution_count": 4,
   "metadata": {},
   "outputs": [],
   "source": [
    "sym_to_mass = {}\n",
    "\n",
    "for i in range(mass_df.shape[0]):\n",
    "    sym = mass_df.iloc[i, 0]\n",
    "    mass = mass_df.iloc[i, 1]\n",
    "    sym_to_mass[sym] = mass"
   ]
  },
  {
   "cell_type": "code",
   "execution_count": 5,
   "metadata": {},
   "outputs": [],
   "source": [
    "s = ['C1OC1', 'C1CNC1', 'OO', 'N=[N+]=[N-]', 'N1=CC=CO1']\n",
    "data, formula = 'O1N=C(C=C1)C(C1)=CC(=CC=1N=[N+]=[N-])CC' , 'C11H10N4O'\n",
    "# data, formula = 'C1N(CC1)CC1=CC(=CC=C1)Br', 'C10H12BrN'\n",
    "# data, formula = 'O1C(C1)C1=CC(=CC=C1)C(OO)=O', 'C9H8O4'"
   ]
  },
  {
   "cell_type": "code",
   "execution_count": 6,
   "metadata": {},
   "outputs": [],
   "source": [
    "def find_part(data, s):\n",
    "    \"\"\"Return a smile part that was found.\n",
    "\n",
    "    @param1 : data -> input data SMILE\n",
    "    @param2 : s -> \n",
    "    \"\"\"\n",
    "    count = 0\n",
    "    for i in range(len(s)):\n",
    "        if s[i] in data:\n",
    "            count += 1\n",
    "            print(f\"{s[i]} found in {data}\")\n",
    "    \n",
    "    return count\n"
   ]
  },
  {
   "cell_type": "code",
   "execution_count": 7,
   "metadata": {},
   "outputs": [],
   "source": [
    "def rule_six(data, hefg):\n",
    "    \"\"\"Return a integer.\n",
    "\n",
    "    @param1 : data -> input data SMILE\n",
    "    @param2 : hefg -> \n",
    "    \"\"\"\n",
    "    count = 0\n",
    "    for i in range(len(data)):\n",
    "        if data[i] == 'C':\n",
    "            count += 1\n",
    "    \n",
    "    x = count / hefg\n",
    "\n",
    "    if x < 6:\n",
    "        return 'RED'\n",
    "    \n",
    "    return 'GREEN'"
   ]
  },
  {
   "cell_type": "code",
   "execution_count": 8,
   "metadata": {},
   "outputs": [],
   "source": [
    "def countOfAtoms(formula: str) -> str:\n",
    "    dt = defaultdict(int)\n",
    "    stack = [1]\n",
    "    digits = \"\"\n",
    "    lowers = \"\"\n",
    "    for element in formula[::-1]:\n",
    "        if element.isdigit():\n",
    "            digits = element + digits\n",
    "        elif element.islower():\n",
    "            lowers = element + lowers\n",
    "        elif element == \")\":\n",
    "            stack.append(stack[-1]*int(digits or 1))\n",
    "            digits = \"\"\n",
    "        elif element == \"(\":\n",
    "            stack.pop()\n",
    "        #if element is an uppercase letter\n",
    "        else:\n",
    "            element = element + lowers\n",
    "            dt[element] = dt[element]+stack[-1]*(int(digits or 1))\n",
    "            digits = \"\"\n",
    "            lowers = \"\"\n",
    "    result = []\n",
    "    for key, value in sorted(dt.items()):\n",
    "        if value == 1:\n",
    "            value = \"\"\n",
    "        result.append(key)\n",
    "        result.append(str(value))\n",
    "    \n",
    "    atoms = []\n",
    "    for i in result:\n",
    "        if i == '':\n",
    "            atoms.append('1')\n",
    "        else:\n",
    "            atoms.append(i)\n",
    "    return atoms"
   ]
  },
  {
   "cell_type": "code",
   "execution_count": 9,
   "metadata": {},
   "outputs": [],
   "source": [
    "def molecule_weight(sym_to_mass, atoms):\n",
    "    mass = 0\n",
    "    for i in range(len(atoms)):\n",
    "        if atoms[i] in sym_to_mass:\n",
    "            m = sym_to_mass[atoms[i]]\n",
    "            a = int(atoms[i + 1])\n",
    "            mass =  mass + a*m\n",
    "\n",
    "    return mass \n",
    "            "
   ]
  },
  {
   "cell_type": "code",
   "execution_count": 10,
   "metadata": {},
   "outputs": [],
   "source": [
    "def oxy_params(atoms):\n",
    "    for i in range(len(atoms)):\n",
    "        if atoms[i] == 'C':\n",
    "            x = int(atoms[i + 1])\n",
    "        elif atoms[i] == 'H':\n",
    "            y = int(atoms[i + 1])\n",
    "        elif atoms[i] == 'O':\n",
    "            z = int(atoms[i + 1])\n",
    "    \n",
    "    return x, y, z"
   ]
  },
  {
   "cell_type": "code",
   "execution_count": 11,
   "metadata": {},
   "outputs": [],
   "source": [
    "def oxygen_balance(sym_to_mass, formula):\n",
    "    atoms = countOfAtoms(formula)  \n",
    "    mw = molecule_weight(sym_to_mass, atoms)\n",
    "    x, y, z = oxy_params(atoms)\n",
    "    oxy_bal = round(-1600 * (x + y/2 -z) / mw)\n",
    "    return oxy_bal"
   ]
  },
  {
   "cell_type": "code",
   "execution_count": 12,
   "metadata": {},
   "outputs": [
    {
     "name": "stdout",
     "output_type": "stream",
     "text": [
      "N=[N+]=[N-] found in O1N=C(C=C1)C(C1)=CC(=CC=1N=[N+]=[N-])CC\n"
     ]
    }
   ],
   "source": [
    "hefg = find_part(data, s)\n",
    "rule = rule_six(data, hefg)\n",
    "oxy = oxygen_balance(sym_to_mass, formula)"
   ]
  },
  {
   "cell_type": "code",
   "execution_count": 13,
   "metadata": {},
   "outputs": [
    {
     "data": {
      "text/plain": [
       "(1, 'GREEN', -112)"
      ]
     },
     "execution_count": 13,
     "metadata": {},
     "output_type": "execute_result"
    }
   ],
   "source": [
    "hefg, rule, oxy"
   ]
  },
  {
   "cell_type": "code",
   "execution_count": 14,
   "metadata": {},
   "outputs": [],
   "source": [
    "# 1. what if no hefg found then rule six will give division by 0 error."
   ]
  },
  {
   "cell_type": "code",
   "execution_count": 15,
   "metadata": {},
   "outputs": [
    {
     "data": {
      "text/html": [
       "<div>\n",
       "<style scoped>\n",
       "    .dataframe tbody tr th:only-of-type {\n",
       "        vertical-align: middle;\n",
       "    }\n",
       "\n",
       "    .dataframe tbody tr th {\n",
       "        vertical-align: top;\n",
       "    }\n",
       "\n",
       "    .dataframe thead th {\n",
       "        text-align: right;\n",
       "    }\n",
       "</style>\n",
       "<table border=\"1\" class=\"dataframe\">\n",
       "  <thead>\n",
       "    <tr style=\"text-align: right;\">\n",
       "      <th></th>\n",
       "      <th>Symbol</th>\n",
       "      <th>Atomic Mass†</th>\n",
       "    </tr>\n",
       "  </thead>\n",
       "  <tbody>\n",
       "    <tr>\n",
       "      <th>0</th>\n",
       "      <td>Ac</td>\n",
       "      <td>-227.00</td>\n",
       "    </tr>\n",
       "    <tr>\n",
       "      <th>1</th>\n",
       "      <td>Al</td>\n",
       "      <td>26.98</td>\n",
       "    </tr>\n",
       "    <tr>\n",
       "      <th>2</th>\n",
       "      <td>Am</td>\n",
       "      <td>-243.00</td>\n",
       "    </tr>\n",
       "    <tr>\n",
       "      <th>3</th>\n",
       "      <td>Sb</td>\n",
       "      <td>121.80</td>\n",
       "    </tr>\n",
       "    <tr>\n",
       "      <th>4</th>\n",
       "      <td>Ar</td>\n",
       "      <td>39.95</td>\n",
       "    </tr>\n",
       "    <tr>\n",
       "      <th>...</th>\n",
       "      <td>...</td>\n",
       "      <td>...</td>\n",
       "    </tr>\n",
       "    <tr>\n",
       "      <th>104</th>\n",
       "      <td>Xe</td>\n",
       "      <td>131.30</td>\n",
       "    </tr>\n",
       "    <tr>\n",
       "      <th>105</th>\n",
       "      <td>Yb</td>\n",
       "      <td>173.00</td>\n",
       "    </tr>\n",
       "    <tr>\n",
       "      <th>106</th>\n",
       "      <td>Y</td>\n",
       "      <td>88.91</td>\n",
       "    </tr>\n",
       "    <tr>\n",
       "      <th>107</th>\n",
       "      <td>Zn</td>\n",
       "      <td>65.41</td>\n",
       "    </tr>\n",
       "    <tr>\n",
       "      <th>108</th>\n",
       "      <td>Zr</td>\n",
       "      <td>91.22</td>\n",
       "    </tr>\n",
       "  </tbody>\n",
       "</table>\n",
       "<p>109 rows × 2 columns</p>\n",
       "</div>"
      ],
      "text/plain": [
       "    Symbol  Atomic Mass†\n",
       "0       Ac       -227.00\n",
       "1       Al         26.98\n",
       "2       Am       -243.00\n",
       "3       Sb        121.80\n",
       "4       Ar         39.95\n",
       "..     ...           ...\n",
       "104     Xe        131.30\n",
       "105     Yb        173.00\n",
       "106      Y         88.91\n",
       "107     Zn         65.41\n",
       "108     Zr         91.22\n",
       "\n",
       "[109 rows x 2 columns]"
      ]
     },
     "execution_count": 15,
     "metadata": {},
     "output_type": "execute_result"
    }
   ],
   "source": [
    "mass_df"
   ]
  },
  {
   "cell_type": "code",
   "execution_count": 17,
   "metadata": {},
   "outputs": [],
   "source": [
    "smile = 'O1N=C(C=C1)C(C1)=CC(=CC=1N=[N+]=[N-])CC'"
   ]
  },
  {
   "cell_type": "code",
   "execution_count": 56,
   "metadata": {},
   "outputs": [],
   "source": [
    "def calculate_formula(smile, mass_df):\n",
    "    n_smile = re.sub('[\\[\\]\\(\\)\\+\\=\\-]',  '', smile)\n",
    "    s = ''.join([i for i in n_smile if not i.isdigit()])\n",
    "    formula = {}\n",
    "    for i in s:\n",
    "        if mass_df['Symbol'].str.contains(i).any():\n",
    "            if i in formula:\n",
    "                formula[i] += 1\n",
    "            else:\n",
    "                formula[i] = 1\n",
    "    \n",
    "    return formula"
   ]
  },
  {
   "cell_type": "code",
   "execution_count": 57,
   "metadata": {},
   "outputs": [
    {
     "data": {
      "text/plain": [
       "{'O': 1, 'N': 4, 'C': 11}"
      ]
     },
     "execution_count": 57,
     "metadata": {},
     "output_type": "execute_result"
    }
   ],
   "source": [
    "f = calculate_formula(smile, mass_df)\n",
    "f"
   ]
  },
  {
   "cell_type": "code",
   "execution_count": 25,
   "metadata": {},
   "outputs": [
    {
     "name": "stdout",
     "output_type": "stream",
     "text": [
      "present\n"
     ]
    }
   ],
   "source": [
    "if mass_df['Symbol'].str.contains('O').any():\n",
    "    print('present')"
   ]
  },
  {
   "cell_type": "code",
   "execution_count": 32,
   "metadata": {},
   "outputs": [],
   "source": [
    "import re"
   ]
  },
  {
   "cell_type": "code",
   "execution_count": 49,
   "metadata": {},
   "outputs": [
    {
     "data": {
      "text/plain": [
       "'O1NCCC1CC1CCCC1NNNCC'"
      ]
     },
     "execution_count": 49,
     "metadata": {},
     "output_type": "execute_result"
    }
   ],
   "source": [
    "# ('\\ |\\?|\\.|\\!|\\/|\\;|\\:', '', line)\n",
    "n_smile = re.sub('[\\[\\]\\(\\)\\+\\=\\-]',  '', smile)\n",
    "n_smile"
   ]
  },
  {
   "cell_type": "code",
   "execution_count": 35,
   "metadata": {},
   "outputs": [
    {
     "data": {
      "text/plain": [
       "'O1N=C(C=C1)C(C1)=CC(=CC=1N=[N+]=[N-])CC'"
      ]
     },
     "execution_count": 35,
     "metadata": {},
     "output_type": "execute_result"
    }
   ],
   "source": [
    "smile"
   ]
  },
  {
   "cell_type": "code",
   "execution_count": 50,
   "metadata": {},
   "outputs": [
    {
     "data": {
      "text/plain": [
       "'ONCCCCCCCCCNNNCC'"
      ]
     },
     "execution_count": 50,
     "metadata": {},
     "output_type": "execute_result"
    }
   ],
   "source": [
    "s = ''.join([i for i in n_smile if not i.isdigit()])\n",
    "s"
   ]
  },
  {
   "cell_type": "code",
   "execution_count": 58,
   "metadata": {},
   "outputs": [
    {
     "ename": "ModuleNotFoundError",
     "evalue": "No module named 'rdkit'",
     "output_type": "error",
     "traceback": [
      "\u001b[1;31m---------------------------------------------------------------------------\u001b[0m",
      "\u001b[1;31mModuleNotFoundError\u001b[0m                       Traceback (most recent call last)",
      "\u001b[1;32mC:\\Users\\ATUL~1.YAD\\AppData\\Local\\Temp/ipykernel_13980/2728931166.py\u001b[0m in \u001b[0;36m<module>\u001b[1;34m\u001b[0m\n\u001b[1;32m----> 1\u001b[1;33m \u001b[1;32mfrom\u001b[0m \u001b[0mrdkit\u001b[0m \u001b[1;32mimport\u001b[0m \u001b[0mChem\u001b[0m\u001b[1;33m\u001b[0m\u001b[1;33m\u001b[0m\u001b[0m\n\u001b[0m\u001b[0;32m      2\u001b[0m \u001b[1;32mfrom\u001b[0m \u001b[0mrdkit\u001b[0m\u001b[1;33m.\u001b[0m\u001b[0mChem\u001b[0m \u001b[1;32mimport\u001b[0m \u001b[0mrdMolDescriptors\u001b[0m\u001b[1;33m\u001b[0m\u001b[1;33m\u001b[0m\u001b[0m\n\u001b[0;32m      3\u001b[0m \u001b[1;33m\u001b[0m\u001b[0m\n\u001b[0;32m      4\u001b[0m \u001b[0mmy_smiles_string\u001b[0m \u001b[1;33m=\u001b[0m \u001b[1;34m'C1=CC(=C(C=C1C(CN)O)O)O'\u001b[0m\u001b[1;33m\u001b[0m\u001b[1;33m\u001b[0m\u001b[0m\n\u001b[0;32m      5\u001b[0m \u001b[0mmy_mol\u001b[0m \u001b[1;33m=\u001b[0m \u001b[0mChem\u001b[0m\u001b[1;33m.\u001b[0m\u001b[0mMolFromSmiles\u001b[0m\u001b[1;33m(\u001b[0m\u001b[0mmy_smiles_string\u001b[0m\u001b[1;33m)\u001b[0m\u001b[1;33m\u001b[0m\u001b[1;33m\u001b[0m\u001b[0m\n",
      "\u001b[1;31mModuleNotFoundError\u001b[0m: No module named 'rdkit'"
     ]
    }
   ],
   "source": [
    "from rdkit import Chem\n",
    "from rdkit.Chem import rdMolDescriptors\n",
    "\n",
    "my_smiles_string = 'C1=CC(=C(C=C1C(CN)O)O)O'\n",
    "my_mol = Chem.MolFromSmiles(my_smiles_string)\n",
    "print(rdMolDescriptors.CalcMolFormula(my_mol))"
   ]
  },
  {
   "cell_type": "code",
   "execution_count": null,
   "metadata": {},
   "outputs": [],
   "source": []
  }
 ],
 "metadata": {
  "kernelspec": {
   "display_name": "Python 3 (ipykernel)",
   "language": "python",
   "name": "python3"
  },
  "language_info": {
   "codemirror_mode": {
    "name": "ipython",
    "version": 3
   },
   "file_extension": ".py",
   "mimetype": "text/x-python",
   "name": "python",
   "nbconvert_exporter": "python",
   "pygments_lexer": "ipython3",
   "version": "3.9.7"
  },
  "vscode": {
   "interpreter": {
    "hash": "3c3e6ac8014a8c609ac71fc985b71220c195b7b16ab0a4c3a8f9f9916df6db7e"
   }
  }
 },
 "nbformat": 4,
 "nbformat_minor": 2
}
